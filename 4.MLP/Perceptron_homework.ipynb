{
 "cells": [
  {
   "cell_type": "code",
   "execution_count": 103,
   "metadata": {},
   "outputs": [
    {
     "name": "stdout",
     "output_type": "stream",
     "text": [
      "(100, 4)\n",
      "(100,)\n"
     ]
    },
    {
     "data": {
      "image/png": "[encoded data removed]",
      "text/plain": [
       "<Figure size 432x288 with 1 Axes>"
      ]
     },
     "metadata": {
      "needs_background": "light"
     },
     "output_type": "display_data"
    }
   ],
   "source": [
    "from sklearn import datasets\n",
    "from sklearn.model_selection import train_test_split\n",
    "import matplotlib.pyplot as plt\n",
    "import numpy as np\n",
    "iris = datasets.load_iris()\n",
    "X = iris.data \n",
    "y = iris.target\n",
    "\n",
    "Data = X[:100,:]\n",
    "label = y[:100]\n",
    "print(Data.shape)\n",
    "print(label.shape)\n",
    "\n",
    "# 数据四维，前两类线性可分，画一下前两维\n",
    "plt.plot(Data[:50,0],Data[:50,1],'r*')\n",
    "plt.plot(Data[50:,0],Data[50:,1],'bo')\n",
    "plt.show()"
   ]
  },
  {
   "cell_type": "code",
   "execution_count": 104,
   "metadata": {},
   "outputs": [],
   "source": [
    "# 划分训练集测试集，进行Perceptron的实验\n",
    "X_train, X_test, y_train, y_test = train_test_split(\n",
    "    Data, label, test_size=0.33, random_state=42)"
   ]
  },
  {
   "cell_type": "code",
   "execution_count": 113,
   "metadata": {},
   "outputs": [],
   "source": [
    "y_train = (y_train-0.5)*2\n",
    "y_test = (y_test-0.5)*2"
   ]
  },
  {
   "cell_type": "code",
   "execution_count": 107,
   "metadata": {},
   "outputs": [
    {
     "name": "stdout",
     "output_type": "stream",
     "text": [
      "the number of iteration is 5\n"
     ]
    }
   ],
   "source": [
    "# Your Code here 二分类，0和1,用了所有的特征数据\n",
    "# init W\n",
    "# y*w^T*x < 0\n",
    "\n",
    "w = np.zeros([X_train.shape[-1], 1])\n",
    "b = np.zeros([1])\n",
    "result = (X_train.dot(w) + b).reshape(-1)\n",
    "pred = 1*(result>0)\n",
    "pred[pred==0]=-1\n",
    "\n",
    "r = 0.05\n",
    "t = 0\n",
    "error = []\n",
    "while np.sum(pred != y_train) and t<2000:\n",
    "    # 取出判断错误的部分\n",
    "    # w=w+r*y*x\n",
    "    # b=b+r*x\n",
    "    wrong_X = X_train[pred != y_train]\n",
    "    wrong_y = y_train[pred != y_train]\n",
    "    deltaw = wrong_X.T.dot(wrong_y).reshape(-1, 1)\n",
    "    w = w + r * deltaw\n",
    "    b = b + r * np.sum(wrong_y)\n",
    "    result = (X_train.dot(w) + b).reshape(-1)\n",
    "    pred = 1*(result>0)\n",
    "    pred[pred==0]=-1\n",
    "    t = t + 1\n",
    "print(\"the number of iteration is %d\" %t)\n"
   ]
  },
  {
   "cell_type": "code",
   "execution_count": 119,
   "metadata": {},
   "outputs": [
    {
     "name": "stdout",
     "output_type": "stream",
     "text": [
      "the accuracy in testing dataset: 100.0 %\n"
     ]
    }
   ],
   "source": [
    "# test\n",
    "result = (X_test.dot(w) + b).reshape(-1)\n",
    "pred = 1*(result>0)\n",
    "pred[pred==0]=-1\n",
    "print('the accuracy in testing dataset:', np.sum(pred == y_test)/len(y_test) * 100, '%')"
   ]
  },
  {
   "cell_type": "code",
   "execution_count": null,
   "metadata": {},
   "outputs": [],
   "source": []
  }
 ],
 "metadata": {
  "kernelspec": {
   "display_name": "Python 3",
   "language": "python",
   "name": "python3"
  },
  "language_info": {
   "codemirror_mode": {
    "name": "ipython",
    "version": 3
   },
   "file_extension": ".py",
   "mimetype": "text/x-python",
   "name": "python",
   "nbconvert_exporter": "python",
   "pygments_lexer": "ipython3",
   "version": "3.7.6"
  },
  "toc": {
   "base_numbering": 1,
   "nav_menu": {},
   "number_sections": true,
   "sideBar": true,
   "skip_h1_title": false,
   "title_cell": "Table of Contents",
   "title_sidebar": "Contents",
   "toc_cell": false,
   "toc_position": {},
   "toc_section_display": true,
   "toc_window_display": false
  }
 },
 "nbformat": 4,
 "nbformat_minor": 2
}
