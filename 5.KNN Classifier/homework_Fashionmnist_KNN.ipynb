{
 "cells": [
  {
   "cell_type": "markdown",
   "metadata": {},
   "source": [
    "## 作业：运用最近邻分类器对Fashion MNIST数据进行分类\n",
    "\n",
    "   -  由于数据量大，我们仅对Fashion MNIST的测试集进行分类实验\n",
    "   -  Fashion MNIST测试集： 数据包含十类，每类1000个样本，每个样本为28 * 28 的图像\n",
    "   -  实验要求：对数据集划分训练集和验证集\n",
    "   -  用训练集使用sklearn的KNeighborsClassifier训练的到分类器\n",
    "   -  用得到的分类器对验证集的数据进行分类，得到准确率"
   ]
  },
  {
   "cell_type": "code",
   "execution_count": 10,
   "metadata": {},
   "outputs": [
    {
     "data": {
      "image/png": "[encoded data removed]",
      "text/plain": [
       "<Figure size 432x288 with 1 Axes>"
      ]
     },
     "metadata": {
      "needs_background": "light"
     },
     "output_type": "display_data"
    },
    {
     "name": "stdout",
     "output_type": "stream",
     "text": [
      "0.0\n",
      "(10000, 784) (10000,)\n"
     ]
    }
   ],
   "source": [
    "import numpy as np\n",
    "from sklearn.model_selection import train_test_split\n",
    "from tensorflow import keras\n",
    "import matplotlib.pyplot as plt\n",
    "\n",
    "img_rows, img_cols = 28, 28\n",
    "num_classes = 10\n",
    "\n",
    "def prep_data(raw):\n",
    "    y = raw[:, 0] # 第1列为标签，其余为图片数据\n",
    "    \n",
    "    x = raw[:,1:]\n",
    "    num_images = raw.shape[0]\n",
    "    out_x = x.reshape(num_images, img_rows, img_cols, 1)\n",
    "    out_x = out_x / 255\n",
    "    return out_x, y\n",
    "\n",
    "fashion_file = f\"fashion-mnist_test.csv\"\n",
    "fashion_data = np.loadtxt(fashion_file, skiprows=1, delimiter=',')\n",
    "x, y = prep_data(fashion_data)\n",
    "im = x[0]\n",
    "plt.imshow((im.squeeze()))\n",
    "plt.show()\n",
    "print(y[0])\n",
    "# 数据与标签 \n",
    "Data = np.squeeze(x).reshape(10000,28*28)\n",
    "label = y\n",
    "print(Data.shape, label.shape)"
   ]
  },
  {
   "cell_type": "code",
   "execution_count": 26,
   "metadata": {},
   "outputs": [
    {
     "data": {
      "text/plain": [
       "KNeighborsClassifier(algorithm='auto', leaf_size=30, metric='minkowski',\n",
       "                     metric_params=None, n_jobs=None, n_neighbors=1, p=2,\n",
       "                     weights='uniform')"
      ]
     },
     "execution_count": 26,
     "metadata": {},
     "output_type": "execute_result"
    }
   ],
   "source": [
    "# your code is here\n",
    "# 用训练集使用sklearn的KNeighborsClassifier训练的到分类器\n",
    "x_train, x_test, y_train, y_test=train_test_split(Data, label, train_size=0.8, random_state=44)\n",
    "\n",
    "from sklearn.neighbors import KNeighborsClassifier\n",
    "\n",
    "n_neighbors = 1\n",
    "knn_classifier = KNeighborsClassifier(n_neighbors=n_neighbors)\n",
    "knn_classifier.fit(x_train, y_train)"
   ]
  },
  {
   "cell_type": "code",
   "execution_count": 27,
   "metadata": {},
   "outputs": [
    {
     "name": "stdout",
     "output_type": "stream",
     "text": [
      "accuracy: 81.5 %\n"
     ]
    }
   ],
   "source": [
    "y_predict = knn_classifier.predict(x_test)\n",
    "accuracy = sum(y_predict==y_test)/len(y_test)*100\n",
    "print('accuracy:', accuracy, \"%\")"
   ]
  },
  {
   "cell_type": "code",
   "execution_count": 28,
   "metadata": {},
   "outputs": [
    {
     "name": "stdout",
     "output_type": "stream",
     "text": [
      "[[161   1   4   0   1   0  20   1   3   0]\n",
      " [  2 187   1   5   0   0   0   0   0   0]\n",
      " [  6   0 132   1  32   0  22   0   1   0]\n",
      " [  8   1   3 174   8   0  11   0   1   0]\n",
      " [  0   1  35   3 134   0  19   0   1   0]\n",
      " [  1   0   0   1   0 140   0  27   2  17]\n",
      " [ 35   0  28   7  22   0 117   0   2   0]\n",
      " [  0   0   0   0   0   4   0 198   0  11]\n",
      " [  3   0   4   0   4   1   2   0 195   0]\n",
      " [  0   0   0   0   0   1   0   7   0 192]]\n",
      "              precision    recall  f1-score   support\n",
      "\n",
      "         0.0       0.75      0.84      0.79       191\n",
      "         1.0       0.98      0.96      0.97       195\n",
      "         2.0       0.64      0.68      0.66       194\n",
      "         3.0       0.91      0.84      0.88       206\n",
      "         4.0       0.67      0.69      0.68       193\n",
      "         5.0       0.96      0.74      0.84       188\n",
      "         6.0       0.61      0.55      0.58       211\n",
      "         7.0       0.85      0.93      0.89       213\n",
      "         8.0       0.95      0.93      0.94       209\n",
      "         9.0       0.87      0.96      0.91       200\n",
      "\n",
      "    accuracy                           0.81      2000\n",
      "   macro avg       0.82      0.81      0.81      2000\n",
      "weighted avg       0.82      0.81      0.81      2000\n",
      "\n"
     ]
    }
   ],
   "source": [
    "# 混淆矩阵\n",
    "from sklearn.metrics import confusion_matrix, classification_report\n",
    "\n",
    "print(confusion_matrix(y_test, y_predict))\n",
    "print(classification_report(y_test, y_predict))"
   ]
  }
 ],
 "metadata": {
  "kernelspec": {
   "display_name": "Python 3",
   "language": "python",
   "name": "python3"
  },
  "language_info": {
   "codemirror_mode": {
    "name": "ipython",
    "version": 3
   },
   "file_extension": ".py",
   "mimetype": "text/x-python",
   "name": "python",
   "nbconvert_exporter": "python",
   "pygments_lexer": "ipython3",
   "version": "3.7.6"
  },
  "toc": {
   "base_numbering": 1,
   "nav_menu": {},
   "number_sections": true,
   "sideBar": true,
   "skip_h1_title": false,
   "title_cell": "Table of Contents",
   "title_sidebar": "Contents",
   "toc_cell": false,
   "toc_position": {},
   "toc_section_display": true,
   "toc_window_display": false
  }
 },
 "nbformat": 4,
 "nbformat_minor": 2
}
