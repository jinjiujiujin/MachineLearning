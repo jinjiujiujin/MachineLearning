{
 "cells": [
  {
   "cell_type": "code",
   "execution_count": 1,
   "metadata": {},
   "outputs": [],
   "source": [
    "from sklearn import datasets\n",
    "from sklearn.model_selection import train_test_split\n",
    "\n",
    "diabetes = datasets.load_diabetes()\n",
    "x = diabetes.data\n",
    "y = diabetes.target\n",
    "\n",
    "x_train, x_test, y_train, y_test = train_test_split(x, y, test_size=0.33)"
   ]
  },
  {
   "cell_type": "code",
   "execution_count": 2,
   "metadata": {},
   "outputs": [
    {
     "name": "stdout",
     "output_type": "stream",
     "text": [
      "RMSE for 牛顿迭代:  42.6749476083012\n"
     ]
    }
   ],
   "source": [
    "# 使用牛顿迭代公式计算\n",
    "#B*= （𝑋^T*X）^−1*𝑋^𝑇*Y\n",
    "import numpy as np\n",
    "a = np.ones(x_train.shape)\n",
    "XX_train = np.c_[x_train, a]\n",
    "# pinv伪逆=（𝑋^T*X）^−1*𝑋^𝑇\n",
    "y_mytest = np.c_[x_test,np.ones(x_test.shape)].dot(np.linalg.pinv(XX_train).dot(y_train))\n",
    "RMSE = ((y_mytest-y_test)**2).sum()\n",
    "RMSE = np.sqrt(RMSE/y_mytest[0])\n",
    "print(\"RMSE for 牛顿迭代: \", RMSE)"
   ]
  },
  {
   "cell_type": "code",
   "execution_count": 3,
   "metadata": {},
   "outputs": [
    {
     "name": "stdout",
     "output_type": "stream",
     "text": [
      "RMSE for official linear regression： 36.83891813127772\n"
     ]
    }
   ],
   "source": [
    "# 官方实现\n",
    "from sklearn.linear_model import LinearRegression\n",
    "\n",
    "clf = LinearRegression(n_jobs=-1)\n",
    "clf.fit(x_train, y_train)\n",
    "y_mytest2 = clf.predict(x_test)\n",
    "RMSE2 = ((y_mytest2-y_test)**2).sum()\n",
    "RMSE2 = np.sqrt(RMSE2/y_test[0])\n",
    "print(\"RMSE for official linear regression：\", RMSE2)"
   ]
  },
  {
   "cell_type": "code",
   "execution_count": 4,
   "metadata": {},
   "outputs": [
    {
     "name": "stdout",
     "output_type": "stream",
     "text": [
      "2778.2018480576503\n",
      "RMSE for 梯度下降:  55.89130682910378\n"
     ]
    }
   ],
   "source": [
    "# 梯度下降法RMSProp\n",
    "threshold = 50\n",
    "a = np.ones(len(x_train))\n",
    "XX_train = np.c_[a, x_train]\n",
    "row, col = XX_train.shape\n",
    "beta = np.random.random([col, 1])\n",
    "mu = 0.9\n",
    "vt = np.ones([col, 1])\n",
    "alpha = 0.5\n",
    "loss = []\n",
    "for i in range(100000):\n",
    "    cur_loss = 1/row * np.linalg.norm(y_train.reshape(row,1)-XX_train.dot(beta))**2\n",
    "    loss.append(cur_loss)\n",
    "    if cur_loss < threshold:\n",
    "        break\n",
    "    else:\n",
    "        delta_beta = 2/row * (XX_train.T.dot(y_train.reshape(row, 1))-XX_train.T.dot(XX_train).dot(beta))\n",
    "        new_vt = mu*vt + (1-mu) * delta_beta**2\n",
    "        beta = beta + alpha * delta_beta/(np.sqrt(new_vt)+np.spacing(1))\n",
    "print(cur_loss)\n",
    "y_mytest3 = np.c_[np.ones(len(x_test)), x_test].dot(beta)\n",
    "RMSE = np.sqrt(1/len(x_test)*np.sum((y_test.reshape(-1,1)-y_mytest3.reshape(-1,1))**2))\n",
    "print(\"RMSE for 梯度下降: \", RMSE)"
   ]
  }
 ],
 "metadata": {
  "interpreter": {
   "hash": "02580f3b40faffdca494a56716cab34cc74dfb88737f96a81a04d7c61a2f2be5"
  },
  "kernelspec": {
   "display_name": "Python 3.7.6 ('base')",
   "language": "python",
   "name": "python3"
  },
  "language_info": {
   "codemirror_mode": {
    "name": "ipython",
    "version": 3
   },
   "file_extension": ".py",
   "mimetype": "text/x-python",
   "name": "python",
   "nbconvert_exporter": "python",
   "pygments_lexer": "ipython3",
   "version": "3.7.6"
  },
  "orig_nbformat": 4
 },
 "nbformat": 4,
 "nbformat_minor": 2
}
