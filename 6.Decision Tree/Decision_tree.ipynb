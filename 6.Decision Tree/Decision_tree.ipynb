{
 "cells": [
  {
   "cell_type": "code",
   "execution_count": 26,
   "metadata": {},
   "outputs": [
    {
     "name": "stdout",
     "output_type": "stream",
     "text": [
      "     outlook  temp humidity  windy\n",
      "0      sunny   hot     high  False\n",
      "1      sunny   hot     high   True\n",
      "2   overcast   hot     high  False\n",
      "3      rainy  mild     high  False\n",
      "4      rainy  cool   normal  False\n",
      "5      rainy  cool   normal   True\n",
      "6   overcast  cool   normal   True\n",
      "7      sunny  mild     high  False\n",
      "8      sunny  cool   normal  False\n",
      "9      rainy  mild   normal  False\n",
      "10     sunny  mild   normal   True\n",
      "11  overcast  mild     high   True\n",
      "12  overcast   hot   normal  False\n",
      "13     rainy  mild     high   True\n",
      "[[1. 0. 0. 0. 1. 0. 1. 0. 0.]\n",
      " [1. 0. 0. 0. 1. 0. 1. 0. 1.]\n",
      " [1. 0. 1. 0. 0. 0. 1. 0. 0.]\n",
      " [1. 0. 0. 1. 0. 0. 0. 1. 0.]\n",
      " [0. 1. 0. 1. 0. 1. 0. 0. 0.]\n",
      " [0. 1. 0. 1. 0. 1. 0. 0. 1.]\n",
      " [0. 1. 1. 0. 0. 1. 0. 0. 1.]\n",
      " [1. 0. 0. 0. 1. 0. 0. 1. 0.]\n",
      " [0. 1. 0. 0. 1. 1. 0. 0. 0.]\n",
      " [0. 1. 0. 1. 0. 0. 0. 1. 0.]\n",
      " [0. 1. 0. 0. 1. 0. 0. 1. 1.]\n",
      " [1. 0. 1. 0. 0. 0. 0. 1. 1.]\n",
      " [0. 1. 1. 0. 0. 0. 1. 0. 0.]\n",
      " [1. 0. 0. 1. 0. 0. 0. 1. 1.]]\n",
      "['no' 'no' 'yes' 'yes' 'yes' 'no' 'yes' 'no' 'yes' 'yes' 'yes' 'yes' 'yes'\n",
      " 'no']\n"
     ]
    }
   ],
   "source": [
    "# read data\n",
    "import pandas as pd\n",
    "from sklearn.feature_extraction import DictVectorizer\n",
    "\n",
    "data = pd.read_csv(\"PlayTennis.csv\")\n",
    "# 通过DictVectorizer，我们就能够把字符型的数据，转化成0 1的矩阵，方便后面进行运算。\n",
    "vec = DictVectorizer(sparse=False)\n",
    "feature = data[['outlook', 'temp', 'humidity', 'windy']]\n",
    "x_train = vec.fit_transform(feature.to_dict(orient='record'))\n",
    "y_train = data['play'].to_numpy()\n",
    "print(feature)\n",
    "print(x_train)\n",
    "print(y_train)"
   ]
  },
  {
   "cell_type": "code",
   "execution_count": 27,
   "metadata": {},
   "outputs": [
    {
     "data": {
      "text/plain": [
       "DecisionTreeClassifier(ccp_alpha=0.0, class_weight=None, criterion='gini',\n",
       "                       max_depth=None, max_features=None, max_leaf_nodes=None,\n",
       "                       min_impurity_decrease=0.0, min_impurity_split=None,\n",
       "                       min_samples_leaf=1, min_samples_split=2,\n",
       "                       min_weight_fraction_leaf=0.0, presort='deprecated',\n",
       "                       random_state=None, splitter='best')"
      ]
     },
     "execution_count": 27,
     "metadata": {},
     "output_type": "execute_result"
    }
   ],
   "source": [
    "from sklearn.model_selection import train_test_split\n",
    "from sklearn import tree\n",
    "# decision tree\n",
    "\n",
    "# 划分数据集\n",
    "# x_trian, x_test, y_train, y_test = train_test_split(x, y, test_size=0.2)\n",
    "clf = tree.DecisionTreeClassifier(criterion='gini')\n",
    "clf.fit(x_train, y_train)"
   ]
  },
  {
   "cell_type": "code",
   "execution_count": 28,
   "metadata": {},
   "outputs": [],
   "source": [
    "# 可视化\n",
    "with open(\"out.dot\", \"w\") as f:\n",
    "    f = tree.export_graphviz(clf, out_file = f, feature_names=vec.get_feature_names())\n",
    "# 需要安装Graphviz，到官网下载即可\n",
    "# 安装完成后，去Graphviz的下载目录，去bin文件夹\n",
    "# 执行dot out.dot -T pdf -o out.pdf 得到输出pdf文件"
   ]
  },
  {
   "cell_type": "markdown",
   "metadata": {},
   "source": [
    "# 结果\n",
    "![decision tree](out.jpg)"
   ]
  }
 ],
 "metadata": {
  "interpreter": {
   "hash": "02580f3b40faffdca494a56716cab34cc74dfb88737f96a81a04d7c61a2f2be5"
  },
  "kernelspec": {
   "display_name": "Python 3.7.6 ('base')",
   "language": "python",
   "name": "python3"
  },
  "language_info": {
   "codemirror_mode": {
    "name": "ipython",
    "version": 3
   },
   "file_extension": ".py",
   "mimetype": "text/x-python",
   "name": "python",
   "nbconvert_exporter": "python",
   "pygments_lexer": "ipython3",
   "version": "3.7.6"
  },
  "orig_nbformat": 4
 },
 "nbformat": 4,
 "nbformat_minor": 2
}
