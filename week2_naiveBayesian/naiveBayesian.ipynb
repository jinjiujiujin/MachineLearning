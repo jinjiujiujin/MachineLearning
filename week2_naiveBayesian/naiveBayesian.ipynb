{
 "cells": [
  {
   "cell_type": "code",
   "execution_count": 1,
   "metadata": {},
   "outputs": [],
   "source": [
    "# read data\n",
    "from sklearn import datasets\n",
    "from sklearn.model_selection import train_test_split\n",
    "\n",
    "iris = datasets.load_iris()\n",
    "X = iris.data\n",
    "Y = iris.target\n",
    "\n",
    "X_train, X_test, Y_train, Y_test = train_test_split(X, Y, test_size=0.33, random_state=42)"
   ]
  },
  {
   "cell_type": "code",
   "execution_count": 2,
   "metadata": {},
   "outputs": [
    {
     "name": "stdout",
     "output_type": "stream",
     "text": [
      "prior: [0.31 0.35 0.34]\n",
      "mean: [[4.96451613 3.37741935 1.46451613 0.2483871 ]\n",
      " [5.85142857 2.72571429 4.22       1.30857143]\n",
      " [6.55294118 2.97058824 5.54411765 2.01176471]]\n",
      "std: [[0.33461426 0.36957663 0.18236508 0.10737624]\n",
      " [0.52119173 0.29504756 0.49442607 0.20194968]\n",
      " [0.66696648 0.30344048 0.54675039 0.27840375]]\n",
      "\n",
      "accuracy: 0.96\n",
      "error sample index: (array([15, 46], dtype=int64),)\n"
     ]
    }
   ],
   "source": [
    "# 获得先验概率prior和条件概率condition\n",
    "import numpy as np\n",
    "import scipy.stats as st\n",
    "# prior=p(Y=ck)\n",
    "class_num = np.unique(Y_train)\n",
    "sample_num = len(Y_train)\n",
    "y_count = np.array([np.sum(Y_train==k) for k in class_num])\n",
    "prior = y_count / sample_num\n",
    "print('prior:', prior)\n",
    "# 首先求各个类中每个特征的均值和方差\n",
    "mean=np.array([np.mean(X_train[np.where(Y_train==k)], axis=0) for k in class_num])\n",
    "print('mean:', mean)\n",
    "std=np.array([np.std(X_train[np.where(Y_train==k)], axis=0) for k in class_num])\n",
    "print('std:', std)\n",
    "feature_num = X_train.shape[1]\n",
    "# condition=p(x=xj|y=ck)\n",
    "# 后验概率post=P(y=ck)*condition的连乘\n",
    "post_p = np.zeros([X_test.shape[0], len(class_num)])\n",
    "i=0\n",
    "for sample in X_test:\n",
    "    for k in range(len(class_num)):\n",
    "        prod = 1\n",
    "        for j in range(feature_num):\n",
    "            prod *= st.norm.pdf(sample[j], mean[k][j], std[k][j])\n",
    "        post_p[i][k]=prod*prior[k]\n",
    "    i+=1\n",
    "y = np.argmax(post_p, axis=1)\n",
    "accuracy = np.sum(Y_test==y)/len(X_test)\n",
    "print()\n",
    "print('accuracy:', accuracy)\n",
    "print('error sample index:', np.where(Y_test!=y))"
   ]
  },
  {
   "cell_type": "code",
   "execution_count": null,
   "metadata": {},
   "outputs": [],
   "source": []
  }
 ],
 "metadata": {
  "interpreter": {
   "hash": "02580f3b40faffdca494a56716cab34cc74dfb88737f96a81a04d7c61a2f2be5"
  },
  "kernelspec": {
   "display_name": "Python 3.7.6 ('base')",
   "language": "python",
   "name": "python3"
  },
  "language_info": {
   "codemirror_mode": {
    "name": "ipython",
    "version": 3
   },
   "file_extension": ".py",
   "mimetype": "text/x-python",
   "name": "python",
   "nbconvert_exporter": "python",
   "pygments_lexer": "ipython3",
   "version": "3.7.6"
  },
  "orig_nbformat": 4
 },
 "nbformat": 4,
 "nbformat_minor": 2
}
