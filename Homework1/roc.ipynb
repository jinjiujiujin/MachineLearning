{
 "cells": [
  {
   "cell_type": "code",
   "execution_count": 11,
   "metadata": {},
   "outputs": [],
   "source": [
    "import numpy as np\n",
    "from sklearn import metrics\n",
    "\n",
    "threshold = 0.05\n",
    "\n",
    "# 读取数据\n",
    "import csv\n",
    "\n",
    "with open('score.csv', newline='') as f:\n",
    "    reader = csv.reader(f)\n",
    "    s = list(reader)\n",
    "tmp = s[0]\n",
    "score = np.array([float(item) for item in tmp])\n",
    "\n",
    "with open('label.csv', newline='') as f:\n",
    "    reader = csv.reader(f)\n",
    "    l = list(reader)\n",
    "tmp = l[0]\n",
    "label = np.array([float(item) for item in tmp])\n",
    "\n",
    "y_pred=score>threshold"
   ]
  },
  {
   "cell_type": "code",
   "execution_count": 33,
   "metadata": {},
   "outputs": [
    {
     "name": "stdout",
     "output_type": "stream",
     "text": [
      "混淆矩阵:\n",
      "[ [766, 38]\n",
      "  [34, 122] ]\n",
      "TPR: 0.9575\n",
      "FPR: 0.2375\n",
      "precision: 95.27363184079603 %\n",
      "recall: 95.75 %\n",
      "F1-score: 0.9551122194513716\n",
      "accuracy: 92.5 %\n"
     ]
    }
   ],
   "source": [
    "#计算混淆矩阵、TPR、FPR，Precision,Recall,F1-score,accuracy。\n",
    "# 1为P，0为N\n",
    "N=len(label)\n",
    "TP=(label[y_pred==True]==1).sum() # TP(True Positive): 真实为1，预测也为1\n",
    "TN=(label[y_pred==False]==0).sum() # TN(True Negative): 真实为0，预测也为0 \n",
    "FP=(label[y_pred==True]==0).sum() # FP(False Positive): 真实为0，预测为1\n",
    "FN=(label[y_pred==False]==1).sum() # FN(False Negative): 真实为1，预测为0\n",
    "# 混淆矩阵\n",
    "print(\"混淆矩阵:\")\n",
    "print(\"[\", [TP, FP])\n",
    "print(\" \", [FN, TN], \"]\")\n",
    "\n",
    "TPR=TP/(TP+FN)\n",
    "print(\"TPR:\", TPR)\n",
    "FPR=FP/(FP+TN)\n",
    "print(\"FPR:\", FPR)\n",
    "precision=TP/(TP+FP)\n",
    "print(\"precision:\", precision*100, \"%\")\n",
    "recall=TP/(TP+FN)\n",
    "print(\"recall:\", recall*100, \"%\")\n",
    "F1=2*TP/(2*TP+FP+FN)\n",
    "print(\"F1-score:\", F1)\n",
    "accuracy=(TP+TN)/N\n",
    "print(\"accuracy:\", accuracy*100, \"%\")\n"
   ]
  },
  {
   "cell_type": "code",
   "execution_count": 32,
   "metadata": {},
   "outputs": [
    {
     "data": {
      "image/png": "[encoded data removed]",
      "text/plain": [
       "<Figure size 432x288 with 1 Axes>"
      ]
     },
     "metadata": {
      "needs_background": "light"
     },
     "output_type": "display_data"
    }
   ],
   "source": [
    "# 绘制ROC曲线，计算AUC\n",
    "fpr, tpr, thresholds = metrics.roc_curve(label, score, pos_label=1)\n",
    "%matplotlib inline\n",
    "import matplotlib.pyplot as plt\n",
    "from sklearn.metrics import roc_curve, auc\n",
    "roc_auc=auc(fpr, tpr)\n",
    "plt.plot(fpr, tpr, color=\"darkorange\", label=\"ROC curve(area=%0.2f)\"%roc_auc)\n",
    "plt.plot([0, 1], [0, 1], color=\"navy\", linestyle=\"--\")\n",
    "plt.xlim([0.0, 1.0])\n",
    "plt.ylim([0.0, 1.05])\n",
    "plt.xlabel(\"False Positive Rate\")\n",
    "plt.ylabel(\"True Positive Rate\")\n",
    "plt.title(\"Receiver operating characteristic example\")\n",
    "plt.legend(loc=\"lower right\")\n",
    "plt.show()"
   ]
  },
  {
   "cell_type": "code",
   "execution_count": null,
   "metadata": {},
   "outputs": [],
   "source": []
  }
 ],
 "metadata": {
  "interpreter": {
   "hash": "02580f3b40faffdca494a56716cab34cc74dfb88737f96a81a04d7c61a2f2be5"
  },
  "kernelspec": {
   "display_name": "Python 3.7.6 64-bit ('base': conda)",
   "language": "python",
   "name": "python3"
  },
  "language_info": {
   "codemirror_mode": {
    "name": "ipython",
    "version": 3
   },
   "file_extension": ".py",
   "mimetype": "text/x-python",
   "name": "python",
   "nbconvert_exporter": "python",
   "pygments_lexer": "ipython3",
   "version": "3.7.6"
  },
  "orig_nbformat": 4
 },
 "nbformat": 4,
 "nbformat_minor": 2
}
